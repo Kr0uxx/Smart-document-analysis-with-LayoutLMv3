{
 "cells": [
  {
   "cell_type": "code",
   "id": "initial_id",
   "metadata": {
    "collapsed": true
   },
   "source": [
    "from PIL import Image\n",
    "from transformers import LayoutLMv3Processor, LayoutLMv3ForTokenClassification\n",
    "\n",
    "# Загрузка модели\n",
    "processor = LayoutLMv3Processor.from_pretrained(\"HYPJUDY/layoutlmv3-large-finetuned-funsd\")\n",
    "model = LayoutLMv3ForTokenClassification.from_pretrained(\"HYPJUDY/layoutlmv3-large-finetuned-funsd\")"
   ],
   "outputs": [],
   "execution_count": null
  },
  {
   "metadata": {},
   "cell_type": "code",
   "source": [
    "\n",
    "\n",
    "import torch\n",
    "from PIL import Image\n",
    "from transformers import LayoutLMv3Processor, LayoutLMv3ForTokenClassification\n",
    "\n",
    "# Load pre-trained processor and model\n",
    "processor = LayoutLMv3Processor.from_pretrained(\"HYPJUDY/layoutlmv3-large-finetuned-funsd\")\n",
    "model = LayoutLMv3ForTokenClassification.from_pretrained(\"HYPJUDY/layoutlmv3-large-finetuned-funsd\")\n",
    "\n",
    "# Load and preprocess the image\n",
    "image_path = \"passport.jpg\"  # Replace with your image path\n",
    "image = Image.open(image_path).convert(\"RGB\").resize((224, 224))\n",
    "\n",
    "# Process image to get inputs (pixel values, bounding boxes, etc.)\n",
    "inputs = processor(image, return_tensors=\"pt\", truncation=True)\n",
    "\n",
    "# Move inputs to GPU if available\n",
    "device = torch.device(\"cuda\" if torch.cuda.is_available() else \"cpu\")\n",
    "model.to(device)\n",
    "inputs = {k: v.to(device) for k, v in inputs.items()}\n",
    "\n",
    "# Run inference\n",
    "with torch.no_grad():\n",
    "    outputs = model(**inputs)\n",
    "\n",
    "# Get predictions\n",
    "predictions = outputs.logits.argmax(-1).squeeze().tolist()\n",
    "\n",
    "# Map predictions to labels (using model's label map)\n",
    "id2label = model.config.id2label\n",
    "predicted_labels = [id2label[pred] for pred in predictions]\n",
    "\n",
    "# Print results (simplified output)\n",
    "print(\"Predicted labels for tokens:\")\n",
    "for token, label in zip(inputs[\"input_ids\"].squeeze().tolist(), predicted_labels):\n",
    "    print(f\"Token ID: {token}, Label: {label}\")"
   ],
   "id": "213a4bd02f059359",
   "outputs": [],
   "execution_count": null
  },
  {
   "metadata": {},
   "cell_type": "code",
   "source": [
    "from transformers import TrainingArguments, Trainer\n",
    "\n",
    "training_args = TrainingArguments(\n",
    "       output_dir=\"./results\",\n",
    "       learning_rate=5e-5,\n",
    "       per_device_train_batch_size=4,\n",
    "       num_train_epochs=3\n",
    ")\n",
    "train_dataset = 'data/funsd/training_data/annotations'\n",
    "trainer = Trainer(\n",
    "       model=model,\n",
    "       args=training_args,\n",
    "       train_dataset=train_dataset\n",
    "   )\n",
    "trainer.train()"
   ],
   "id": "b3c9029ceb482dff",
   "outputs": [],
   "execution_count": null
  },
  {
   "metadata": {},
   "cell_type": "markdown",
   "source": "# Интеграция NLP проверок",
   "id": "192f43fda22c2e15"
  },
  {
   "metadata": {},
   "cell_type": "code",
   "outputs": [],
   "execution_count": null,
   "source": [
    "from dateutil.parser import parse\n",
    "\n",
    "def validate_dates(text):\n",
    "    try:\n",
    "        parse(text, dayfirst=True)\n",
    "        return True\n",
    "    except ValueError:\n",
    "        return False\n",
    "\n",
    "# В конвейере обработки\n",
    "for word, label in zip(words, labels):\n",
    "    if label == \"DATE\" and not validate_dates(word):\n",
    "        print(f\"Ошибка в дате: {word}\")"
   ],
   "id": "6db69d189a8c8318"
  },
  {
   "metadata": {
    "ExecuteTime": {
     "end_time": "2025-04-24T09:12:43.943437Z",
     "start_time": "2025-04-24T09:06:49.118047Z"
    }
   },
   "cell_type": "code",
   "source": [
    "from transformers import pipeline\n",
    "\n",
    "qa_pipeline = pipeline(\n",
    "    \"question-answering\", \n",
    "    model=\"DeepPavlov/rubert-base-cased\"\n",
    ")\n",
    "\n",
    "context = \"Паспорт выдан ОВД Центрального округа Москвы\"\n",
    "question = \"Кем выдан документ?\"\n",
    "answer = qa_pipeline(question=question, context=context)[\"answer\"]"
   ],
   "id": "50b25f0ca6bbe3dc",
   "outputs": [
    {
     "data": {
      "text/plain": [
       "config.json:   0%|          | 0.00/642 [00:00<?, ?B/s]"
      ],
      "application/vnd.jupyter.widget-view+json": {
       "version_major": 2,
       "version_minor": 0,
       "model_id": "6dfc20e07be04c3998fbb03c5773fdce"
      }
     },
     "metadata": {},
     "output_type": "display_data"
    },
    {
     "data": {
      "text/plain": [
       "pytorch_model.bin:   0%|          | 0.00/714M [00:00<?, ?B/s]"
      ],
      "application/vnd.jupyter.widget-view+json": {
       "version_major": 2,
       "version_minor": 0,
       "model_id": "cbe2914423ae4ce786bb914d2835d1ac"
      }
     },
     "metadata": {},
     "output_type": "display_data"
    },
    {
     "name": "stderr",
     "output_type": "stream",
     "text": [
      "Some weights of BertForQuestionAnswering were not initialized from the model checkpoint at DeepPavlov/rubert-base-cased and are newly initialized: ['qa_outputs.bias', 'qa_outputs.weight']\n",
      "You should probably TRAIN this model on a down-stream task to be able to use it for predictions and inference.\n"
     ]
    },
    {
     "data": {
      "text/plain": [
       "tokenizer_config.json:   0%|          | 0.00/24.0 [00:00<?, ?B/s]"
      ],
      "application/vnd.jupyter.widget-view+json": {
       "version_major": 2,
       "version_minor": 0,
       "model_id": "c014c74d4fce49f4bed61b118ebb9d85"
      }
     },
     "metadata": {},
     "output_type": "display_data"
    },
    {
     "data": {
      "text/plain": [
       "vocab.txt:   0%|          | 0.00/1.65M [00:00<?, ?B/s]"
      ],
      "application/vnd.jupyter.widget-view+json": {
       "version_major": 2,
       "version_minor": 0,
       "model_id": "c4036b95b43345a1a6c7e89fa6422ce2"
      }
     },
     "metadata": {},
     "output_type": "display_data"
    },
    {
     "data": {
      "text/plain": [
       "model.safetensors:   0%|          | 0.00/714M [00:00<?, ?B/s]"
      ],
      "application/vnd.jupyter.widget-view+json": {
       "version_major": 2,
       "version_minor": 0,
       "model_id": "556024a8dc6749199b07ea146434332c"
      }
     },
     "metadata": {},
     "output_type": "display_data"
    },
    {
     "data": {
      "text/plain": [
       "special_tokens_map.json:   0%|          | 0.00/112 [00:00<?, ?B/s]"
      ],
      "application/vnd.jupyter.widget-view+json": {
       "version_major": 2,
       "version_minor": 0,
       "model_id": "4f366586674e44b69fdfb5f137b17290"
      }
     },
     "metadata": {},
     "output_type": "display_data"
    },
    {
     "name": "stderr",
     "output_type": "stream",
     "text": [
      "Device set to use mps:0\n"
     ]
    }
   ],
   "execution_count": 5
  },
  {
   "metadata": {},
   "cell_type": "code",
   "outputs": [],
   "execution_count": null,
   "source": "",
   "id": "91641c03ae25676c"
  }
 ],
 "metadata": {
  "kernelspec": {
   "display_name": "Python 3",
   "language": "python",
   "name": "python3"
  },
  "language_info": {
   "codemirror_mode": {
    "name": "ipython",
    "version": 2
   },
   "file_extension": ".py",
   "mimetype": "text/x-python",
   "name": "python",
   "nbconvert_exporter": "python",
   "pygments_lexer": "ipython2",
   "version": "2.7.6"
  }
 },
 "nbformat": 4,
 "nbformat_minor": 5
}
